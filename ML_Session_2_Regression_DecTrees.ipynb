{
  "nbformat": 4,
  "nbformat_minor": 0,
  "metadata": {
    "colab": {
      "name": "ML Session 2_Regression_DecTrees.ipynb",
      "provenance": [],
      "collapsed_sections": [],
      "authorship_tag": "ABX9TyNgCE/R1BC9MTO4aWvQK3US",
      "include_colab_link": true
    },
    "kernelspec": {
      "name": "python3",
      "display_name": "Python 3"
    },
    "accelerator": "GPU"
  },
  "cells": [
    {
      "cell_type": "markdown",
      "metadata": {
        "id": "view-in-github",
        "colab_type": "text"
      },
      "source": [
        "<a href=\"https://colab.research.google.com/github/henry8695/Henry-Woodward/blob/master/ML_Session_2_Regression_DecTrees.ipynb\" target=\"_parent\"><img src=\"https://colab.research.google.com/assets/colab-badge.svg\" alt=\"Open In Colab\"/></a>"
      ]
    },
    {
      "cell_type": "markdown",
      "metadata": {
        "id": "KDgJRycPiz-4",
        "colab_type": "text"
      },
      "source": [
        "# Session 2 - Decision Trees and Random Forests"
      ]
    },
    {
      "cell_type": "code",
      "metadata": {
        "id": "qCFIoPbAi-Cy",
        "colab_type": "code",
        "colab": {}
      },
      "source": [
        "import pandas as pd\n",
        "import numpy as np\n",
        "import matplotlib.pyplot as plt\n",
        "from sklearn import datasets, linear_model\n",
        "from sklearn.metrics import mean_squared_error, r2_score\n",
        "from sklearn.ensemble import RandomForestRegressor\n",
        "from sklearn.ensemble import AdaBoostRegressor\n",
        "from sklearn.model_selection import train_test_split"
      ],
      "execution_count": 0,
      "outputs": []
    },
    {
      "cell_type": "markdown",
      "metadata": {
        "id": "_EXY4RsFjwV9",
        "colab_type": "text"
      },
      "source": [
        "# 2.1 Linear Regression"
      ]
    },
    {
      "cell_type": "code",
      "metadata": {
        "id": "_BBbAF0UkpuZ",
        "colab_type": "code",
        "colab": {}
      },
      "source": [
        "#load data from sklearn\n",
        "#Dictionary Structure\n",
        "diabetes = datasets.load_diabetes()\n",
        "\n",
        "#to get value from key, we do data.key (selecting one x variable (the first))\n",
        "diabetes_x = diabetes.data[:,0].reshape(-1,1)\n",
        "diabetes_y = diabetes.target\n",
        "\n",
        "#split training and testing [all values except last 100] -> not good\n",
        "x_train = diabetes_x[:-100]\n",
        "x_test = diabetes_x[-100:]\n",
        "y_train = diabetes_y[:-100]\n",
        "y_test = diabetes_y[-100:]\n",
        "\n",
        "#the data could be ordered - we need a random sample\n",
        "#this method is not generalised is specifying exact row numbers\n",
        "\n",
        "#NEEDS TO BE IN THIS ORDER - Done a random split (random_state number is to make sure it is replicable - use any number)\n",
        "x_train, x_test, y_train, y_test = train_test_split(diabetes_x, diabetes_y, train_size=0.7, random_state=2)\n"
      ],
      "execution_count": 0,
      "outputs": []
    },
    {
      "cell_type": "code",
      "metadata": {
        "id": "iiRmf3vGo9VF",
        "colab_type": "code",
        "colab": {
          "base_uri": "https://localhost:8080/",
          "height": 52
        },
        "outputId": "23db161c-20a4-4057-ae35-884cccefa761"
      },
      "source": [
        "##Create a linear model\n",
        "#stores model as variable (initialise)\n",
        "regr = linear_model.LinearRegression()\n",
        "\n",
        "#train model on data (fit)\n",
        "regr.fit(x_train, y_train)\n",
        "prediction=regr.predict(x_test)\n",
        "training_pred=regr.predict(x_train)\n",
        "\n",
        "#Check performance %=formatting that applies to next percentage sign (2f is two-sig figures)\n",
        "print(\"Variance score for test: %.2f\" %r2_score(y_test, prediction))\n",
        "print(\"Variance score for training: %.2f\" %r2_score(y_train, training_pred))\n"
      ],
      "execution_count": 35,
      "outputs": [
        {
          "output_type": "stream",
          "text": [
            "Variance score for test: -0.01\n",
            "Variance score for training: 0.05\n"
          ],
          "name": "stdout"
        }
      ]
    },
    {
      "cell_type": "code",
      "metadata": {
        "id": "L_PlkJgUsRFc",
        "colab_type": "code",
        "colab": {}
      },
      "source": [
        "#Saying length is different\n",
        "print(len(x_train), len(y_train), len(training_pred))\n",
        "\n",
        "#Plot actual data as scatter (k=colour, o=scatter (default is line))\n",
        "plt.plot(x_train, y_train, \"ko\")\n",
        "#Plot training prediction\n",
        "plt.plot(x_train, training_pred, \"b\")\n",
        "#Format\n",
        "plt.title(\"Training set model\")\n",
        "plt.xlabel(\"Scaled age\")\n",
        "plt.ylabel(\"Diabetes Inidicator\")"
      ],
      "execution_count": 0,
      "outputs": []
    },
    {
      "cell_type": "code",
      "metadata": {
        "id": "8JX9aK5hwqJF",
        "colab_type": "code",
        "colab": {}
      },
      "source": [
        ""
      ],
      "execution_count": 0,
      "outputs": []
    },
    {
      "cell_type": "markdown",
      "metadata": {
        "id": "5fM0L2uEwrSH",
        "colab_type": "text"
      },
      "source": [
        "# Random Forest"
      ]
    },
    {
      "cell_type": "code",
      "metadata": {
        "id": "3WP9qkCow0-V",
        "colab_type": "code",
        "colab": {}
      },
      "source": [
        "#Can select all x variables\n",
        "diabetes_x1 = diabetes.data\n",
        "diabetes_y1 = diabetes.target\n",
        "\n",
        "#n_estimators is how many trees\n",
        "rf = RandomForestRegressor(n_estimators=200, random_state=2)\n",
        "rf.fit(x_train, y_train)\n",
        "rf.predict(x_test)\n",
        "\n",
        "from sklearn.tree import DecisionTreeRegressor\n",
        "bdt=AdaBoostRegressor(DecisionTreeRegressor)"
      ],
      "execution_count": 0,
      "outputs": []
    }
  ]
}