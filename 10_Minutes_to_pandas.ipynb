{
  "nbformat": 4,
  "nbformat_minor": 0,
  "metadata": {
    "colab": {
      "name": "10 Minutes to pandas",
      "provenance": [],
      "collapsed_sections": [],
      "authorship_tag": "ABX9TyPMqIPCXqAvWXbOqCyO7Xj/",
      "include_colab_link": true
    },
    "kernelspec": {
      "name": "python3",
      "display_name": "Python 3"
    }
  },
  "cells": [
    {
      "cell_type": "markdown",
      "metadata": {
        "id": "view-in-github",
        "colab_type": "text"
      },
      "source": [
        "<a href=\"https://colab.research.google.com/github/henry8695/Henry-Woodward/blob/master/10_Minutes_to_pandas.ipynb\" target=\"_parent\"><img src=\"https://colab.research.google.com/assets/colab-badge.svg\" alt=\"Open In Colab\"/></a>"
      ]
    },
    {
      "cell_type": "markdown",
      "metadata": {
        "id": "N14hQ84KNBmA",
        "colab_type": "text"
      },
      "source": [
        "Importing packages - analagous to loading packages in R"
      ]
    },
    {
      "cell_type": "code",
      "metadata": {
        "id": "gxFvuHskHidB",
        "colab_type": "code",
        "colab": {}
      },
      "source": [
        "import numpy as np\n",
        "import pandas as pd\n",
        "\n"
      ],
      "execution_count": 0,
      "outputs": []
    },
    {
      "cell_type": "markdown",
      "metadata": {
        "id": "UXSwFd5BNKZ_",
        "colab_type": "text"
      },
      "source": [
        "Creating a Series, pandas creates a default integer index"
      ]
    },
    {
      "cell_type": "code",
      "metadata": {
        "id": "uDshOhOrNTcd",
        "colab_type": "code",
        "colab": {
          "base_uri": "https://localhost:8080/",
          "height": 139
        },
        "outputId": "f9dc73c4-ceb5-44ea-beaa-16e43be01ba7"
      },
      "source": [
        "s = pd.Series([1,3,5,np.nan,6,8])\n",
        "s"
      ],
      "execution_count": 6,
      "outputs": [
        {
          "output_type": "execute_result",
          "data": {
            "text/plain": [
              "0    1.0\n",
              "1    3.0\n",
              "2    5.0\n",
              "3    NaN\n",
              "4    6.0\n",
              "5    8.0\n",
              "dtype: float64"
            ]
          },
          "metadata": {
            "tags": []
          },
          "execution_count": 6
        }
      ]
    },
    {
      "cell_type": "markdown",
      "metadata": {
        "id": "RxZMZNzHNoPP",
        "colab_type": "text"
      },
      "source": [
        "Creating a dataframe by passing NumPy array "
      ]
    },
    {
      "cell_type": "code",
      "metadata": {
        "id": "prn1PyTMOaFE",
        "colab_type": "code",
        "colab": {}
      },
      "source": [
        "dates = pd.date_range('20200101', periods=6)\n",
        "dates\n",
        "df = pd.DataFrame(np.random.randn(6, 4), index=dates, columns=list('ABCD'))\n",
        "df"
      ],
      "execution_count": 0,
      "outputs": []
    },
    {
      "cell_type": "markdown",
      "metadata": {
        "id": "QhyjluyPRb7a",
        "colab_type": "text"
      },
      "source": [
        "Creating a dataframe  by passing objects that can be converted to series-like\n"
      ]
    },
    {
      "cell_type": "code",
      "metadata": {
        "id": "Bh5NkFbmRITF",
        "colab_type": "code",
        "colab": {}
      },
      "source": [
        "df2 = pd.DataFrame({'A': 1.,\n",
        "                    'B':pd.Timestamp('20200101'),\n",
        "                    'C':pd.Series(1,index=list(range(4)), dtype='float32'),\n",
        "                    'D':np.array([3]*4,dtype='int32'),\n",
        "                    'E':pd.Categorical([\"test\",\"train\",\"test\",\"train\"]),\n",
        "                    'F':'foo'})\n",
        "df2"
      ],
      "execution_count": 0,
      "outputs": []
    },
    {
      "cell_type": "markdown",
      "metadata": {
        "id": "ERtHJAcKUUXQ",
        "colab_type": "text"
      },
      "source": [
        "The columns in the above dataframe are different types, you can check this\n",
        "\n",
        "---\n",
        "\n"
      ]
    },
    {
      "cell_type": "code",
      "metadata": {
        "id": "sTDdqu4DTiEM",
        "colab_type": "code",
        "colab": {}
      },
      "source": [
        "df2.dtypes"
      ],
      "execution_count": 0,
      "outputs": []
    },
    {
      "cell_type": "markdown",
      "metadata": {
        "id": "C6wyqYTOjLjK",
        "colab_type": "text"
      },
      "source": [
        "**VIEWING**"
      ]
    },
    {
      "cell_type": "markdown",
      "metadata": {
        "id": "4RWFcEbMUww0",
        "colab_type": "text"
      },
      "source": [
        "Viewing the top and bottom (3) rows of dataframe"
      ]
    },
    {
      "cell_type": "code",
      "metadata": {
        "id": "J4jswn4MU08s",
        "colab_type": "code",
        "colab": {}
      },
      "source": [
        "df.head()\n",
        "df.tail(3)"
      ],
      "execution_count": 0,
      "outputs": []
    },
    {
      "cell_type": "markdown",
      "metadata": {
        "id": "XugcN_osWIJi",
        "colab_type": "text"
      },
      "source": [
        "Display the index and columns"
      ]
    },
    {
      "cell_type": "code",
      "metadata": {
        "id": "vLXk2OcNWM4T",
        "colab_type": "code",
        "outputId": "4474068f-b0a2-42b8-a558-2900b8a8dec6",
        "colab": {
          "base_uri": "https://localhost:8080/",
          "height": 35
        }
      },
      "source": [
        "df.index\n",
        "df.columns"
      ],
      "execution_count": 0,
      "outputs": [
        {
          "output_type": "execute_result",
          "data": {
            "text/plain": [
              "Index(['A', 'B', 'C', 'D'], dtype='object')"
            ]
          },
          "metadata": {
            "tags": []
          },
          "execution_count": 36
        }
      ]
    },
    {
      "cell_type": "markdown",
      "metadata": {
        "id": "L5_4H7OTWhiC",
        "colab_type": "text"
      },
      "source": [
        "DataFrame.to_numpy() gives NumPy represeation of data (excludes idex and columns). Careful if columns have different data types - fundamental difference between pandas and NumPy: NumPy arrays have one dtype for array, whilst pandas have one dtype per column"
      ]
    },
    {
      "cell_type": "code",
      "metadata": {
        "id": "msY9aqfJXtSL",
        "colab_type": "code",
        "colab": {}
      },
      "source": [
        "df.to_numpy()"
      ],
      "execution_count": 0,
      "outputs": []
    },
    {
      "cell_type": "markdown",
      "metadata": {
        "id": "Jv1IWhGbYAw-",
        "colab_type": "text"
      },
      "source": [
        "If we do the same to our df2 with multiple dtypes, we see it ain't great (all are now objects)"
      ]
    },
    {
      "cell_type": "code",
      "metadata": {
        "id": "qcm-AoUBYZYc",
        "colab_type": "code",
        "colab": {}
      },
      "source": [
        "df2.to_numpy()"
      ],
      "execution_count": 0,
      "outputs": []
    },
    {
      "cell_type": "markdown",
      "metadata": {
        "id": "NSwE7o3hYmWJ",
        "colab_type": "text"
      },
      "source": [
        "To look at summary statistics, we us the describe() function "
      ]
    },
    {
      "cell_type": "code",
      "metadata": {
        "id": "OlpY9H8AZUKb",
        "colab_type": "code",
        "colab": {}
      },
      "source": [
        "df.describe()"
      ],
      "execution_count": 0,
      "outputs": []
    },
    {
      "cell_type": "markdown",
      "metadata": {
        "id": "cTo0rgHmaPaB",
        "colab_type": "text"
      },
      "source": [
        "Transposing data uses the df.T function"
      ]
    },
    {
      "cell_type": "code",
      "metadata": {
        "id": "mlHG2HboaShB",
        "colab_type": "code",
        "outputId": "a52f157a-dddc-4f8c-d11d-056d57be0ebc",
        "colab": {
          "base_uri": "https://localhost:8080/",
          "height": 171
        }
      },
      "source": [
        "df.T"
      ],
      "execution_count": 0,
      "outputs": [
        {
          "output_type": "execute_result",
          "data": {
            "text/html": [
              "<div>\n",
              "<style scoped>\n",
              "    .dataframe tbody tr th:only-of-type {\n",
              "        vertical-align: middle;\n",
              "    }\n",
              "\n",
              "    .dataframe tbody tr th {\n",
              "        vertical-align: top;\n",
              "    }\n",
              "\n",
              "    .dataframe thead th {\n",
              "        text-align: right;\n",
              "    }\n",
              "</style>\n",
              "<table border=\"1\" class=\"dataframe\">\n",
              "  <thead>\n",
              "    <tr style=\"text-align: right;\">\n",
              "      <th></th>\n",
              "      <th>2020-01-01</th>\n",
              "      <th>2020-01-02</th>\n",
              "      <th>2020-01-03</th>\n",
              "      <th>2020-01-04</th>\n",
              "      <th>2020-01-05</th>\n",
              "      <th>2020-01-06</th>\n",
              "    </tr>\n",
              "  </thead>\n",
              "  <tbody>\n",
              "    <tr>\n",
              "      <th>A</th>\n",
              "      <td>-0.252880</td>\n",
              "      <td>0.598202</td>\n",
              "      <td>0.141600</td>\n",
              "      <td>-0.488988</td>\n",
              "      <td>-1.161051</td>\n",
              "      <td>1.675030</td>\n",
              "    </tr>\n",
              "    <tr>\n",
              "      <th>B</th>\n",
              "      <td>-0.433247</td>\n",
              "      <td>-0.396184</td>\n",
              "      <td>-1.331433</td>\n",
              "      <td>-2.109819</td>\n",
              "      <td>-0.159158</td>\n",
              "      <td>-0.594144</td>\n",
              "    </tr>\n",
              "    <tr>\n",
              "      <th>C</th>\n",
              "      <td>0.456853</td>\n",
              "      <td>-0.373932</td>\n",
              "      <td>-0.217964</td>\n",
              "      <td>-1.417431</td>\n",
              "      <td>-0.907740</td>\n",
              "      <td>0.436075</td>\n",
              "    </tr>\n",
              "    <tr>\n",
              "      <th>D</th>\n",
              "      <td>0.927167</td>\n",
              "      <td>0.423731</td>\n",
              "      <td>1.927901</td>\n",
              "      <td>0.077184</td>\n",
              "      <td>-0.275962</td>\n",
              "      <td>0.372766</td>\n",
              "    </tr>\n",
              "  </tbody>\n",
              "</table>\n",
              "</div>"
            ],
            "text/plain": [
              "   2020-01-01  2020-01-02  2020-01-03  2020-01-04  2020-01-05  2020-01-06\n",
              "A   -0.252880    0.598202    0.141600   -0.488988   -1.161051    1.675030\n",
              "B   -0.433247   -0.396184   -1.331433   -2.109819   -0.159158   -0.594144\n",
              "C    0.456853   -0.373932   -0.217964   -1.417431   -0.907740    0.436075\n",
              "D    0.927167    0.423731    1.927901    0.077184   -0.275962    0.372766"
            ]
          },
          "metadata": {
            "tags": []
          },
          "execution_count": 43
        }
      ]
    },
    {
      "cell_type": "markdown",
      "metadata": {
        "id": "2qnU9nwNaXHb",
        "colab_type": "text"
      },
      "source": [
        "Can also sort by axis values"
      ]
    },
    {
      "cell_type": "code",
      "metadata": {
        "id": "CWlj2GaGaZXf",
        "colab_type": "code",
        "colab": {}
      },
      "source": [
        "df.sort_index(axis=1,ascending=False)"
      ],
      "execution_count": 0,
      "outputs": []
    },
    {
      "cell_type": "markdown",
      "metadata": {
        "id": "vr7O7OpralFm",
        "colab_type": "text"
      },
      "source": [
        "Can sort by values in columns"
      ]
    },
    {
      "cell_type": "code",
      "metadata": {
        "id": "qJjlTAhxa--g",
        "colab_type": "code",
        "colab": {}
      },
      "source": [
        "df.sort_values(by='B', ascending=False)"
      ],
      "execution_count": 0,
      "outputs": []
    },
    {
      "cell_type": "markdown",
      "metadata": {
        "id": "W3vK8KPujU7J",
        "colab_type": "text"
      },
      "source": [
        "**SELECTING BY LABEL**"
      ]
    },
    {
      "cell_type": "markdown",
      "metadata": {
        "id": "AisDlqZhbel6",
        "colab_type": "text"
      },
      "source": [
        "Can select a single colomn with [ ]"
      ]
    },
    {
      "cell_type": "code",
      "metadata": {
        "id": "2KJKDTeEbxWh",
        "colab_type": "code",
        "outputId": "594f4ebe-7cb2-43f3-98a4-77c8927b7129",
        "colab": {
          "base_uri": "https://localhost:8080/",
          "height": 139
        }
      },
      "source": [
        "df['A']"
      ],
      "execution_count": 0,
      "outputs": [
        {
          "output_type": "execute_result",
          "data": {
            "text/plain": [
              "2020-01-01   -0.252880\n",
              "2020-01-02    0.598202\n",
              "2020-01-03    0.141600\n",
              "2020-01-04   -0.488988\n",
              "2020-01-05   -1.161051\n",
              "2020-01-06    1.675030\n",
              "Freq: D, Name: A, dtype: float64"
            ]
          },
          "metadata": {
            "tags": []
          },
          "execution_count": 55
        }
      ]
    },
    {
      "cell_type": "markdown",
      "metadata": {
        "id": "ABkrIOxOb3Ou",
        "colab_type": "text"
      },
      "source": [
        "Can also select specific rows of columns\n"
      ]
    },
    {
      "cell_type": "code",
      "metadata": {
        "id": "3odiwS4AcBef",
        "colab_type": "code",
        "colab": {}
      },
      "source": [
        "df[0:3]\n",
        "df['A'].head(3)"
      ],
      "execution_count": 0,
      "outputs": []
    },
    {
      "cell_type": "code",
      "metadata": {
        "id": "Ch7na47Qc3hK",
        "colab_type": "code",
        "colab": {}
      },
      "source": [
        "df['20200103':'20200105']"
      ],
      "execution_count": 0,
      "outputs": []
    },
    {
      "cell_type": "markdown",
      "metadata": {
        "id": "uot4kK0UdFeo",
        "colab_type": "text"
      },
      "source": [
        "You can also use index and column labels to subset the data"
      ]
    },
    {
      "cell_type": "code",
      "metadata": {
        "id": "zQJJ_3Xxdqe6",
        "colab_type": "code",
        "colab": {}
      },
      "source": [
        "df.loc[dates[0]]"
      ],
      "execution_count": 0,
      "outputs": []
    },
    {
      "cell_type": "markdown",
      "metadata": {
        "id": "4wnTUPf0fjEN",
        "colab_type": "text"
      },
      "source": [
        "Selecting multi-axis by label"
      ]
    },
    {
      "cell_type": "code",
      "metadata": {
        "id": "xZtSZO72f5hX",
        "colab_type": "code",
        "colab": {}
      },
      "source": [
        "df.loc[:,['A','B']]\n",
        "df.loc['20200102':'20200104', ['A', 'B']]\n"
      ],
      "execution_count": 0,
      "outputs": []
    },
    {
      "cell_type": "markdown",
      "metadata": {
        "id": "JI_8y4kCg8ql",
        "colab_type": "text"
      },
      "source": [
        "Reduction in dimensions"
      ]
    },
    {
      "cell_type": "code",
      "metadata": {
        "id": "OB78VHzhhArP",
        "colab_type": "code",
        "colab": {}
      },
      "source": [
        "df.loc['20200103',['A','B']]"
      ],
      "execution_count": 0,
      "outputs": []
    },
    {
      "cell_type": "markdown",
      "metadata": {
        "id": "fO7jcJ9Riyc-",
        "colab_type": "text"
      },
      "source": [
        "Select scalar value"
      ]
    },
    {
      "cell_type": "code",
      "metadata": {
        "id": "rQ5YZ6BYi1Hm",
        "colab_type": "code",
        "colab": {}
      },
      "source": [
        "df.loc['20200103',['A']]"
      ],
      "execution_count": 0,
      "outputs": []
    },
    {
      "cell_type": "markdown",
      "metadata": {
        "id": "W1IhbZosjYpe",
        "colab_type": "text"
      },
      "source": [
        "**SELECTING BY POSITION**"
      ]
    },
    {
      "cell_type": "code",
      "metadata": {
        "id": "8pI2InG-kIiZ",
        "colab_type": "code",
        "outputId": "4ed47a57-8a07-4fed-d672-221ac12b35b2",
        "colab": {
          "base_uri": "https://localhost:8080/",
          "height": 233
        }
      },
      "source": [
        "df"
      ],
      "execution_count": 0,
      "outputs": [
        {
          "output_type": "execute_result",
          "data": {
            "text/html": [
              "<div>\n",
              "<style scoped>\n",
              "    .dataframe tbody tr th:only-of-type {\n",
              "        vertical-align: middle;\n",
              "    }\n",
              "\n",
              "    .dataframe tbody tr th {\n",
              "        vertical-align: top;\n",
              "    }\n",
              "\n",
              "    .dataframe thead th {\n",
              "        text-align: right;\n",
              "    }\n",
              "</style>\n",
              "<table border=\"1\" class=\"dataframe\">\n",
              "  <thead>\n",
              "    <tr style=\"text-align: right;\">\n",
              "      <th></th>\n",
              "      <th>A</th>\n",
              "      <th>B</th>\n",
              "      <th>C</th>\n",
              "      <th>D</th>\n",
              "    </tr>\n",
              "  </thead>\n",
              "  <tbody>\n",
              "    <tr>\n",
              "      <th>2020-01-01</th>\n",
              "      <td>-0.252880</td>\n",
              "      <td>-0.433247</td>\n",
              "      <td>0.456853</td>\n",
              "      <td>0.927167</td>\n",
              "    </tr>\n",
              "    <tr>\n",
              "      <th>2020-01-02</th>\n",
              "      <td>0.598202</td>\n",
              "      <td>-0.396184</td>\n",
              "      <td>-0.373932</td>\n",
              "      <td>0.423731</td>\n",
              "    </tr>\n",
              "    <tr>\n",
              "      <th>2020-01-03</th>\n",
              "      <td>0.141600</td>\n",
              "      <td>-1.331433</td>\n",
              "      <td>-0.217964</td>\n",
              "      <td>1.927901</td>\n",
              "    </tr>\n",
              "    <tr>\n",
              "      <th>2020-01-04</th>\n",
              "      <td>-0.488988</td>\n",
              "      <td>-2.109819</td>\n",
              "      <td>-1.417431</td>\n",
              "      <td>0.077184</td>\n",
              "    </tr>\n",
              "    <tr>\n",
              "      <th>2020-01-05</th>\n",
              "      <td>-1.161051</td>\n",
              "      <td>-0.159158</td>\n",
              "      <td>-0.907740</td>\n",
              "      <td>-0.275962</td>\n",
              "    </tr>\n",
              "    <tr>\n",
              "      <th>2020-01-06</th>\n",
              "      <td>1.675030</td>\n",
              "      <td>-0.594144</td>\n",
              "      <td>0.436075</td>\n",
              "      <td>0.372766</td>\n",
              "    </tr>\n",
              "  </tbody>\n",
              "</table>\n",
              "</div>"
            ],
            "text/plain": [
              "                   A         B         C         D\n",
              "2020-01-01 -0.252880 -0.433247  0.456853  0.927167\n",
              "2020-01-02  0.598202 -0.396184 -0.373932  0.423731\n",
              "2020-01-03  0.141600 -1.331433 -0.217964  1.927901\n",
              "2020-01-04 -0.488988 -2.109819 -1.417431  0.077184\n",
              "2020-01-05 -1.161051 -0.159158 -0.907740 -0.275962\n",
              "2020-01-06  1.675030 -0.594144  0.436075  0.372766"
            ]
          },
          "metadata": {
            "tags": []
          },
          "execution_count": 76
        }
      ]
    },
    {
      "cell_type": "markdown",
      "metadata": {
        "id": "YiGQUZAgkAW2",
        "colab_type": "text"
      },
      "source": [
        "Selcting by integer position (Remember = nrow+1)"
      ]
    },
    {
      "cell_type": "code",
      "metadata": {
        "id": "KMC0X4yjj6uw",
        "colab_type": "code",
        "colab": {}
      },
      "source": [
        "df.iloc[3]"
      ],
      "execution_count": 0,
      "outputs": []
    },
    {
      "cell_type": "markdown",
      "metadata": {
        "id": "GeTssuTrkrqx",
        "colab_type": "text"
      },
      "source": [
        "Can also use slices [row, colomn]"
      ]
    },
    {
      "cell_type": "code",
      "metadata": {
        "id": "adSdjI3QlRDO",
        "colab_type": "code",
        "colab": {}
      },
      "source": [
        "df.iloc[3:5,0:3]"
      ],
      "execution_count": 0,
      "outputs": []
    },
    {
      "cell_type": "markdown",
      "metadata": {
        "id": "GL4h_WNdlvNg",
        "colab_type": "text"
      },
      "source": [
        "or"
      ]
    },
    {
      "cell_type": "code",
      "metadata": {
        "id": "2aZjqJ9nlv3Z",
        "colab_type": "code",
        "outputId": "61dfd3ac-7143-4226-b257-665eac169f29",
        "colab": {
          "base_uri": "https://localhost:8080/",
          "height": 141
        }
      },
      "source": [
        "df.iloc[[1, 2, 5],[1, 3]]"
      ],
      "execution_count": 0,
      "outputs": [
        {
          "output_type": "execute_result",
          "data": {
            "text/html": [
              "<div>\n",
              "<style scoped>\n",
              "    .dataframe tbody tr th:only-of-type {\n",
              "        vertical-align: middle;\n",
              "    }\n",
              "\n",
              "    .dataframe tbody tr th {\n",
              "        vertical-align: top;\n",
              "    }\n",
              "\n",
              "    .dataframe thead th {\n",
              "        text-align: right;\n",
              "    }\n",
              "</style>\n",
              "<table border=\"1\" class=\"dataframe\">\n",
              "  <thead>\n",
              "    <tr style=\"text-align: right;\">\n",
              "      <th></th>\n",
              "      <th>B</th>\n",
              "      <th>D</th>\n",
              "    </tr>\n",
              "  </thead>\n",
              "  <tbody>\n",
              "    <tr>\n",
              "      <th>2020-01-02</th>\n",
              "      <td>-0.396184</td>\n",
              "      <td>0.423731</td>\n",
              "    </tr>\n",
              "    <tr>\n",
              "      <th>2020-01-03</th>\n",
              "      <td>-1.331433</td>\n",
              "      <td>1.927901</td>\n",
              "    </tr>\n",
              "    <tr>\n",
              "      <th>2020-01-06</th>\n",
              "      <td>-0.594144</td>\n",
              "      <td>0.372766</td>\n",
              "    </tr>\n",
              "  </tbody>\n",
              "</table>\n",
              "</div>"
            ],
            "text/plain": [
              "                   B         D\n",
              "2020-01-02 -0.396184  0.423731\n",
              "2020-01-03 -1.331433  1.927901\n",
              "2020-01-06 -0.594144  0.372766"
            ]
          },
          "metadata": {
            "tags": []
          },
          "execution_count": 94
        }
      ]
    },
    {
      "cell_type": "markdown",
      "metadata": {
        "id": "dLCVPE4tmYuX",
        "colab_type": "text"
      },
      "source": [
        "For rows explicitly"
      ]
    },
    {
      "cell_type": "code",
      "metadata": {
        "id": "Go1tPLzVmbZs",
        "colab_type": "code",
        "outputId": "1974bf5a-465f-433b-bd80-dd2981af69fc",
        "colab": {
          "base_uri": "https://localhost:8080/",
          "height": 110
        }
      },
      "source": [
        "df.iloc[1:3,:]"
      ],
      "execution_count": 0,
      "outputs": [
        {
          "output_type": "execute_result",
          "data": {
            "text/html": [
              "<div>\n",
              "<style scoped>\n",
              "    .dataframe tbody tr th:only-of-type {\n",
              "        vertical-align: middle;\n",
              "    }\n",
              "\n",
              "    .dataframe tbody tr th {\n",
              "        vertical-align: top;\n",
              "    }\n",
              "\n",
              "    .dataframe thead th {\n",
              "        text-align: right;\n",
              "    }\n",
              "</style>\n",
              "<table border=\"1\" class=\"dataframe\">\n",
              "  <thead>\n",
              "    <tr style=\"text-align: right;\">\n",
              "      <th></th>\n",
              "      <th>A</th>\n",
              "      <th>B</th>\n",
              "      <th>C</th>\n",
              "      <th>D</th>\n",
              "    </tr>\n",
              "  </thead>\n",
              "  <tbody>\n",
              "    <tr>\n",
              "      <th>2020-01-02</th>\n",
              "      <td>0.598202</td>\n",
              "      <td>-0.396184</td>\n",
              "      <td>-0.373932</td>\n",
              "      <td>0.423731</td>\n",
              "    </tr>\n",
              "    <tr>\n",
              "      <th>2020-01-03</th>\n",
              "      <td>0.141600</td>\n",
              "      <td>-1.331433</td>\n",
              "      <td>-0.217964</td>\n",
              "      <td>1.927901</td>\n",
              "    </tr>\n",
              "  </tbody>\n",
              "</table>\n",
              "</div>"
            ],
            "text/plain": [
              "                   A         B         C         D\n",
              "2020-01-02  0.598202 -0.396184 -0.373932  0.423731\n",
              "2020-01-03  0.141600 -1.331433 -0.217964  1.927901"
            ]
          },
          "metadata": {
            "tags": []
          },
          "execution_count": 95
        }
      ]
    },
    {
      "cell_type": "markdown",
      "metadata": {
        "id": "AKWS76tymho4",
        "colab_type": "text"
      },
      "source": [
        "For columns explicitly"
      ]
    },
    {
      "cell_type": "code",
      "metadata": {
        "id": "zGSIWEatmkPR",
        "colab_type": "code",
        "colab": {}
      },
      "source": [
        "df.iloc[:,0:3]"
      ],
      "execution_count": 0,
      "outputs": []
    }
  ]
}